{
  "nbformat": 4,
  "nbformat_minor": 0,
  "metadata": {
    "colab": {
      "provenance": [],
      "toc_visible": true,
      "authorship_tag": "ABX9TyOckkgliUvYOBrpzWhBIOQi",
      "include_colab_link": true
    },
    "kernelspec": {
      "name": "python3",
      "display_name": "Python 3"
    },
    "language_info": {
      "name": "python"
    }
  },
  "cells": [
    {
      "cell_type": "markdown",
      "metadata": {
        "id": "view-in-github",
        "colab_type": "text"
      },
      "source": [
        "<a href=\"https://colab.research.google.com/github/thewambua/RANDOMFOREST-DECISIONTREE/blob/main/randomforestdecisiontree.ipynb\" target=\"_parent\"><img src=\"https://colab.research.google.com/assets/colab-badge.svg\" alt=\"Open In Colab\"/></a>"
      ]
    },
    {
      "cell_type": "code",
      "source": [
        "import pandas as pd\n",
        "import numpy as np\n",
        "\n",
        "df = pd.read_csv('Real estate.csv')\n",
        "df.head()\n",
        "from sklearn.model_selection import train_test_split\n",
        "from sklearn.ensemble import RandomForestRegressor\n",
        "from sklearn.tree import DecisionTreeRegressor\n",
        "from sklearn.metrics import mean_squared_error, mean_absolute_error\n",
        "\n",
        "#Label Encoding\n",
        "from sklearn.preprocessing import LabelEncoder\n",
        "\n",
        "l = LabelEncoder()\n",
        "for col in df.columns:\n",
        "    if df[col].dtype == object:\n",
        "        df[col] = l.fit_transform(df[col])\n",
        "\n",
        "dfX = df.drop('Y house price of unit area', axis=1)\n",
        "y = df['Y house price of unit area']\n",
        "X_train, X_test, y_train, y_test = train_test_split(X, y, test_size=0.2, random_state=42)\n",
        "rf_model = RandomForestRegressor()\n",
        "rf_model.fit(X_train, y_train)\n",
        "\n",
        "# Make predictions with Random Forest\n",
        "rf_predictions = rf_model.predict(X_test)\n",
        "\n",
        "# Calculate and print the metrics for Random Forest\n",
        "rf_mse = mean_squared_error(y_test, rf_predictions)\n",
        "rf_mae = mean_absolute_error(y_test, rf_predictions)\n",
        "rf_rmse = np.sqrt(rf_mse)\n",
        "\n",
        "print(f'Random Forest MSE: {rf_mse}')\n",
        "print(f'Random Forest MAE: {rf_mae}')\n",
        "print(f'Random Forest RMSE: {rf_rmse}')# Create and train the Decision Tree model\n",
        "dt_model = DecisionTreeRegressor()\n",
        "dt_model.fit(X_train, y_train)\n",
        "\n",
        "# Make predictions with Decision Tree\n",
        "dt_predictions = dt_model.predict(X_test)\n",
        "\n",
        "# Calculate and print the metrics for Decision Tree\n",
        "dt_mse = mean_squared_error(y_test, dt_predictions)\n",
        "dt_mae = mean_absolute_error(y_test, dt_predictions)\n",
        "dt_rmse = np.sqrt(dt_mse)\n",
        "\n",
        "print(f'Decision Tree MSE: {dt_mse}')\n",
        "print(f'Decision Tree MAE: {dt_mae}')\n",
        "print(f'Decision Tree RMSE: {dt_rmse}')"
      ],
      "metadata": {
        "colab": {
          "base_uri": "https://localhost:8080/"
        },
        "id": "Ve65NVOfnpxC",
        "outputId": "5ae06105-96a0-43f4-b47c-162cc8ba1902"
      },
      "execution_count": 14,
      "outputs": [
        {
          "output_type": "stream",
          "name": "stdout",
          "text": [
            "Random Forest MSE: 32.62131904819272\n",
            "Random Forest MAE: 3.8996024096385513\n",
            "Random Forest RMSE: 5.7115075985410995\n",
            "Decision Tree MSE: 63.20385542168676\n",
            "Decision Tree MAE: 5.881927710843374\n",
            "Decision Tree RMSE: 7.950085246189928\n"
          ]
        }
      ]
    }
  ]
}